{
 "cells": [
  {
   "cell_type": "code",
   "execution_count": 1,
   "id": "54a0c0e6-2377-4cdb-bfaf-bdf30770ef6f",
   "metadata": {},
   "outputs": [],
   "source": [
    "import numpy as np\n",
    "from dense import Dense"
   ]
  },
  {
   "cell_type": "code",
   "execution_count": 2,
   "id": "cd366394-d71b-46a7-966a-044d6ff1317c",
   "metadata": {},
   "outputs": [],
   "source": [
    "layer = Dense(784, 128)"
   ]
  },
  {
   "cell_type": "code",
   "execution_count": 3,
   "id": "b8eb9707-56bc-465e-a5eb-16e523f78009",
   "metadata": {},
   "outputs": [],
   "source": [
    "# Forward pass\n",
    "input_data = np.random.randn(784, 32).astype(np.float64)  # batch_size=32\n",
    "output = layer.forward(input_data)\n",
    "\n",
    "# Backward pass\n",
    "grad = np.random.randn(128, 32).astype(np.float64)\n",
    "input_grad = layer.backward(grad, 0.01)"
   ]
  },
  {
   "cell_type": "code",
   "execution_count": null,
   "id": "a7b125d4-4672-4cda-ad7b-3139bb8f2144",
   "metadata": {},
   "outputs": [],
   "source": []
  }
 ],
 "metadata": {
  "kernelspec": {
   "display_name": "Python 3 (ipykernel)",
   "language": "python",
   "name": "python3"
  },
  "language_info": {
   "codemirror_mode": {
    "name": "ipython",
    "version": 3
   },
   "file_extension": ".py",
   "mimetype": "text/x-python",
   "name": "python",
   "nbconvert_exporter": "python",
   "pygments_lexer": "ipython3",
   "version": "3.10.18"
  }
 },
 "nbformat": 4,
 "nbformat_minor": 5
}
